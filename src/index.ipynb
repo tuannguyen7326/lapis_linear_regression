{
 "cells": [
  {
   "cell_type": "code",
   "execution_count": 38,
   "metadata": {},
   "outputs": [],
   "source": [
    "import numpy as np\n",
    "from matplotlib import pyplot as plt\n",
    "from modules.preProcessData import makeXbar"
   ]
  },
  {
   "cell_type": "code",
   "execution_count": 39,
   "metadata": {},
   "outputs": [
    {
     "name": "stdout",
     "output_type": "stream",
     "text": [
      "(13, 1) (13, 1)\n"
     ]
    }
   ],
   "source": [
    "X = np.array([147, 150, 153, 158, 163, 165, 168, 170, 173, 175, 178, 180, 183]).reshape((-1,1))\n",
    "y = np.array([49, 50, 51,  54, 58, 59, 60, 62, 63, 64, 66, 67, 68]).reshape((-1,1))\n",
    "print(X.shape, y.shape)"
   ]
  },
  {
   "cell_type": "code",
   "execution_count": 40,
   "metadata": {},
   "outputs": [
    {
     "name": "stdout",
     "output_type": "stream",
     "text": [
      "[[  1. 147.]\n",
      " [  1. 150.]\n",
      " [  1. 153.]]\n"
     ]
    }
   ],
   "source": [
    "XBar = makeXbar(X)\n",
    "print(XBar[:3])"
   ]
  },
  {
   "cell_type": "code",
   "execution_count": 41,
   "metadata": {},
   "outputs": [],
   "source": [
    "XTestBar = makeXbar(np.array([158, 173, 190, 205]).reshape((-1,1)))"
   ]
  },
  {
   "cell_type": "code",
   "execution_count": 45,
   "metadata": {},
   "outputs": [
    {
     "name": "stdout",
     "output_type": "stream",
     "text": [
      "[[54.61897378]\n",
      " [63.00704821]\n",
      " [72.51353256]\n",
      " [80.90160699]]\n",
      "w= [[-33.73541021   0.55920496]]\n"
     ]
    }
   ],
   "source": [
    "from modules.LapisLinearRegression import LapisLinearRegression\n",
    "\n",
    "lapisLinearRegr = LapisLinearRegression()\n",
    "lapisLinearRegr.fit(XBar, y)\n",
    "lapisYTest = lapisLinearRegr.predict(XTestBar)\n",
    "print(lapisYTest)\n",
    "print('w=', lapisLinearRegr.coef_.T)"
   ]
  },
  {
   "cell_type": "code",
   "execution_count": 46,
   "metadata": {},
   "outputs": [
    {
     "name": "stdout",
     "output_type": "stream",
     "text": [
      "[[54.61897378]\n",
      " [63.00704821]\n",
      " [72.51353256]\n",
      " [80.90160699]]\n",
      "w= [[-33.73541021   0.55920496]]\n"
     ]
    }
   ],
   "source": [
    "from sklearn.linear_model import LinearRegression\n",
    "linearRegr = LinearRegression(fit_intercept=False)\n",
    "linearRegr.fit(XBar, y)\n",
    "sklearnLinearY = linearRegr.predict(XTestBar)\n",
    "print(sklearnLinearY)\n",
    "print('w=', linearRegr.coef_)"
   ]
  },
  {
   "cell_type": "code",
   "execution_count": 55,
   "metadata": {},
   "outputs": [
    {
     "name": "stdout",
     "output_type": "stream",
     "text": [
      "[48.47394745 50.15059844 51.82724943 54.62166775 57.41608606 58.53385339\n",
      " 60.21050438 61.32827171 63.0049227  64.12269002 65.79934101 66.91710834\n",
      " 68.59375933]\n",
      "w= [0.55888366]\n"
     ]
    },
    {
     "name": "stderr",
     "output_type": "stream",
     "text": [
      "C:\\lapis\\program_files\\python39\\lib\\site-packages\\sklearn\\linear_model\\_base.py:141: FutureWarning: 'normalize' was deprecated in version 1.0 and will be removed in 1.2.\n",
      "If you wish to scale the data, use Pipeline with a StandardScaler in a preprocessing stage. To reproduce the previous behavior:\n",
      "\n",
      "from sklearn.pipeline import make_pipeline\n",
      "\n",
      "model = make_pipeline(StandardScaler(with_mean=False), Lasso())\n",
      "\n",
      "If you wish to pass a sample_weight parameter, you need to pass it as a fit parameter to each step of the pipeline as follows:\n",
      "\n",
      "kwargs = {s[0] + '__sample_weight': sample_weight for s in model.steps}\n",
      "model.fit(X, y, **kwargs)\n",
      "\n",
      "Set parameter alpha to: original_alpha * np.sqrt(n_samples). \n",
      "  warnings.warn(\n"
     ]
    }
   ],
   "source": [
    "from sklearn.linear_model import Lasso\n",
    "lassoLinearRegr = Lasso(alpha=0.001, normalize=True)\n",
    "lassoLinearRegr.fit(X, y)\n",
    "lassoLinearRegrYTest = lassoLinearRegr.predict(X)\n",
    "print(lassoLinearRegrYTest)\n",
    "print('w=', lassoLinearRegr.coef_)"
   ]
  },
  {
   "cell_type": "code",
   "execution_count": 50,
   "metadata": {},
   "outputs": [
    {
     "name": "stdout",
     "output_type": "stream",
     "text": [
      "[54.61897378 63.00704821 72.51353256 80.90160699]\n",
      "w= [-33.73541021   0.55920496]\n"
     ]
    },
    {
     "name": "stderr",
     "output_type": "stream",
     "text": [
      "C:\\lapis\\program_files\\python39\\lib\\site-packages\\sklearn\\linear_model\\_base.py:133: FutureWarning: The default of 'normalize' will be set to False in version 1.2 and deprecated in version 1.4.\n",
      "If you wish to scale the data, use Pipeline with a StandardScaler in a preprocessing stage. To reproduce the previous behavior:\n",
      "\n",
      "from sklearn.pipeline import make_pipeline\n",
      "\n",
      "model = make_pipeline(StandardScaler(with_mean=False), Lars())\n",
      "\n",
      "If you wish to pass a sample_weight parameter, you need to pass it as a fit parameter to each step of the pipeline as follows:\n",
      "\n",
      "kwargs = {s[0] + '__sample_weight': sample_weight for s in model.steps}\n",
      "model.fit(X, y, **kwargs)\n",
      "\n",
      "\n",
      "  warnings.warn(\n"
     ]
    }
   ],
   "source": [
    "from sklearn.linear_model import Lars\n",
    "larsLinearRegr = Lars(fit_intercept=False)\n",
    "larsLinearRegr.fit(XBar, y)\n",
    "larsLinearRegrYTest = larsLinearRegr.predict(XTestBar)\n",
    "print(larsLinearRegrYTest)\n",
    "print('w=', larsLinearRegr.coef_)"
   ]
  }
 ],
 "metadata": {
  "interpreter": {
   "hash": "9b58771ae52f4fe46b5b1e05b992674c42974711ebbd9fc4bfeb8237b39fa35f"
  },
  "kernelspec": {
   "display_name": "Python 3.9.10 64-bit",
   "language": "python",
   "name": "python3"
  },
  "language_info": {
   "codemirror_mode": {
    "name": "ipython",
    "version": 3
   },
   "file_extension": ".py",
   "mimetype": "text/x-python",
   "name": "python",
   "nbconvert_exporter": "python",
   "pygments_lexer": "ipython3",
   "version": "3.9.10"
  },
  "orig_nbformat": 4
 },
 "nbformat": 4,
 "nbformat_minor": 2
}
